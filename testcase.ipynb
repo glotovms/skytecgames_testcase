{
 "cells": [
  {
   "cell_type": "code",
   "execution_count": 1,
   "id": "902f23ef",
   "metadata": {},
   "outputs": [],
   "source": [
    "import numpy as np\n",
    "import pandas as pd\n",
    "import sqlite3 \n",
    "import matplotlib.pyplot as plt\n",
    "import seaborn as sns\n",
    "from scipy import stats\n",
    "from statsmodels.stats.power import zt_ind_solve_power\n",
    "from statsmodels.stats.proportion import proportions_ztest\n",
    "from math import ceil\n",
    "\n",
    "from sklearn.metrics import mean_absolute_percentage_error\n",
    "from sklearn.metrics import r2_score\n",
    "\n",
    "random_state = 42\n",
    "np.random.seed(random_state)"
   ]
  },
  {
   "cell_type": "markdown",
   "id": "66dbae78",
   "metadata": {},
   "source": [
    "# 1 Успешность прототипа\n",
    "Известно что компания конкурент выпустила 1000 прототипов игр, из которых было 5 успешных. Наша компания выпустила 200 прототипов из которых ни один не был успешен.\n",
    "Какова вероятность что следующий (201й) наш прототип будет успешен? Какими методами можно решать данную задачу? Предложите как минимум 2 варианта. Если у вас есть какой-то вариант решения задачи для которого требуются доп. данные - перечислите что требуется и метод решения."
   ]
  },
  {
   "cell_type": "markdown",
   "id": "ffb44069",
   "metadata": {},
   "source": [
    "# Решение "
   ]
  },
  {
   "cell_type": "markdown",
   "id": "76d6ff8f",
   "metadata": {},
   "source": [
    "1. Если возможен сбор данных о других играх, например: концепт, жанр, платформа, сеттинг, другие теги, затраты на рекламу, затраты на разработку, время разработки и т.д. Также если рассматривать результаты игры не как успех и неудача (классификация), а как регрессию, например отношение доходов к расходам (если главной целью пректа был доход), отношение кол-ва новых игроков к затраченным на рекламу средствам (если цель увеличение аудитории), другие метрики, по которым можно судить как хорошо проект справляется со своей целью. Также по обученным моделям судить о том, что необходимо игрокам и, опираясь на их предпочтения, создавать определенные игры.\n",
    "2. Создание MVP и сбор отзывов, по которым можно судить о предпочтениях игроков, прибыли."
   ]
  },
  {
   "cell_type": "markdown",
   "id": "e0be6c3d",
   "metadata": {},
   "source": [
    "# 2 Сравнение групп платящих игроков\n",
    "В мобильной игре около 10% игроков совершает платежи в первый месяц с момента установки игры (база расчета - 500 игроков). \n",
    "Геймдизайнеры разработали обновление которое по их экспертной оценке должно увеличить процент плательщиков с 10% до 11%. Цель эксперимента - подтвердить или опровергнуть их гипотезу.\n",
    "1.\tОпишите оптимальный по вашему мнению дизайн эксперимента\n",
    "2.\tРассчитайте длительность эксперимента при условии что каждый день в игру приходит около 100 новых игроков.\n",
    "3.\tСамостоятельно сгенерируйте датасет с около 10% плательщиков (контроль) и рассчитайте доверительный интервал.\n",
    "4.\tСгенерируйте несколько вариантов экспериментальной группы (хуже, лучше, без эффекта), рассчитайте силу эффекта, ДИ и ваши выводы для каждого варианта.\n",
    "5.\tРешите задачу 2 разными подходами: frequentist / bayesian\n",
    "\n",
    "Необходимо все ответы сопроводить комментариями почему вы выбрали ту или иную методику расчета, алгоритм и т.д."
   ]
  },
  {
   "cell_type": "markdown",
   "id": "2bd1d302",
   "metadata": {},
   "source": [
    "# Решение "
   ]
  },
  {
   "cell_type": "markdown",
   "id": "7990b8e2",
   "metadata": {},
   "source": [
    "# Дизайн эксперимента\n",
    "1. Формулировка гипотез: $H_0$ - обновление не изменит процент плательщиков (останется 10%), $H_1$ - процент плательщиков увеличится до 11%\n",
    "2. Задание метрик. Основаная метрика - количество плательщиков среди новых игроков, также хорошо иметь и другие метрики и посмотреть их измениение в результате А/Б теста (суммарное количество денег оставленное плательщиками, кол-во оставшихся новых игроков игроков, время проводимое игроками в игре, и др.)\n",
    "3. Разделение новых пользователей группы (в зависимости от количества других проводимых А/Б тестов, в зависимости от того, откуда пришел игрок(т.е. реклама на опредленном сайте, блогере, по чей рекомендации), какие-нибудь другие свойства (страна, платформа) и др.)\n",
    "4. Определения значимости и мощности эксперимента, и расчет необходимого количества наблюдений (времени эксперимента)\n",
    "5. Введение эксперимента и ожидание результатов.\n",
    "6. Анализ результатов."
   ]
  },
  {
   "cell_type": "markdown",
   "id": "b5ca90a8",
   "metadata": {},
   "source": [
    "# Расчет длительности эксперимента"
   ]
  },
  {
   "cell_type": "code",
   "execution_count": 2,
   "id": "a6c118b8",
   "metadata": {},
   "outputs": [
    {
     "name": "stdout",
     "output_type": "stream",
     "text": [
      "Требуемое кол-во игроков для каждой группы: 11612\n",
      "Время эксперимента в днях: 262.24\n"
     ]
    }
   ],
   "source": [
    "# новых игроков каждый день\n",
    "new_players_per_day = 100\n",
    "# время для определения поведения игрока\n",
    "additional_test_days = 30\n",
    "\n",
    "# доли \n",
    "p_0 = 0.1\n",
    "p_1 = 0.11\n",
    "\n",
    "# ошибки первого и второго рода\n",
    "alpha = 0.05\n",
    "beta = 0.2\n",
    "\n",
    "# дисперсии (распределение Бернули)\n",
    "var_0 = p_0 * (1 - p_0)\n",
    "var_1 = p_1 * (1 - p_1)\n",
    "\n",
    "# стандартизированный размер эффекта при равных размерах тестовой и контрольной групп\n",
    "effect_size = (p_1 - p_0) / ((np.sqrt(var_0) + np.sqrt(var_1)) / 2)\n",
    "\n",
    "# расчет необходимого числа наблюдений \n",
    "players_size = zt_ind_solve_power(effect_size=effect_size,  # стандартизованный размер эффекта\n",
    "                                 nobs1=None,           # число наблюдений None, тк их хотим найти \n",
    "                                 alpha=alpha,          # уровень значимости \n",
    "                                 power=(1 - beta),     # мощность\n",
    "                                 ratio=1,              # перекос в выборках, если 0, тогда выборка только одна\n",
    "                                 alternative='larger'  # альтернатива\n",
    "                                )\n",
    "\n",
    "# округление в большую сторону\n",
    "players_size = ceil(players_size)\n",
    "print('Требуемое кол-во игроков для каждой группы:', players_size)\n",
    "\n",
    "'''расчет времени эксперимента (необходимое число игроков, деленное на число новых игроков каждый день,\n",
    "плюс время на совершение платежа в первые несколько дней'''\n",
    "test_duration = players_size*2/new_players_per_day + additional_test_days\n",
    "print('Время эксперимента в днях:', test_duration)"
   ]
  },
  {
   "cell_type": "markdown",
   "id": "56a5a2d4",
   "metadata": {},
   "source": [
    "При таком большом времени эксперимента (300 дней из-за малого количества новых пользователей и большого количества числа игроков), и таком малом размере эффекта (с 10% до 11%) имеет смысл не проводить этот А/Б тест, а направить ресурсы на реализацию функционала и проведение А/Б теста для того эксперимента который мог бы иметь больший размер эффекта. "
   ]
  },
  {
   "cell_type": "markdown",
   "id": "21cf0ef3",
   "metadata": {},
   "source": [
    "# Расчет доверительного интервала"
   ]
  },
  {
   "cell_type": "code",
   "execution_count": 3,
   "id": "6414e938",
   "metadata": {},
   "outputs": [
    {
     "name": "stdout",
     "output_type": "stream",
     "text": [
      "Доверительный интервал для контрольной группы: 0.0913 0.1020\n"
     ]
    }
   ],
   "source": [
    "# доля плательщиков\n",
    "p = 0.1\n",
    "\n",
    "# генерация датасета\n",
    "random_state=42\n",
    "control_data = stats.bernoulli.rvs(p, size=players_size,random_state=random_state)\n",
    "\n",
    "# точечная оценка вероятности\n",
    "nu = np.mean(control_data)\n",
    "\n",
    "# расчет дисперсии \n",
    "var = control_data.var(ddof=1)\n",
    "\n",
    "# количество наблюдений\n",
    "n = control_data.size\n",
    "\n",
    "# расчет квантиля \n",
    "z_crit = stats.norm.ppf(1-alpha/2)\n",
    "\n",
    "# расчет доверительного интервала\n",
    "left = nu - z_crit*np.sqrt(var/n)\n",
    "right = nu + z_crit*np.sqrt(var/n)\n",
    "\n",
    "print(f'Доверительный интервал для контрольной группы: {left:.4f} {right:.4f}')"
   ]
  },
  {
   "cell_type": "code",
   "execution_count": 4,
   "id": "8a31d155",
   "metadata": {},
   "outputs": [],
   "source": [
    "# расчет доверительного интревала для разности средних\n",
    "def calc_interval_and_pvalue(control_data,test_data,alpha = 0.05,draw=False):\n",
    "    \n",
    "    # расчет средних значений\n",
    "    nu_control = np.mean(control_data)\n",
    "    nu_test = np.mean(test_data)\n",
    "    \n",
    "    # расчет дисперсий\n",
    "    var_control = control_data.var(ddof=1)\n",
    "    var_test = test_data.var(ddof=1)\n",
    "\n",
    "    # количество наблюдений\n",
    "    n_control = control_data.size\n",
    "    n_test = test_data.size\n",
    "    \n",
    "    # расчет доверительного интервала\n",
    "    z_crit = stats.norm.ppf(1-alpha/2)   \n",
    "    sd = np.sqrt(var_control/n_control+var_test/n_test)\n",
    "    left = (nu_test - nu_control) + z_crit*sd\n",
    "    right = (nu_test - nu_control) - z_crit*sd\n",
    "    left,right = min(left, right),max(left, right) \n",
    "    \n",
    "    # число наблидений и число успехов для ztest`а\n",
    "    n_obs = test_data.size, control_data.size                     \n",
    "    m_obs = test_data.sum(), control_data.sum()                    \n",
    "\n",
    "    # ztest\n",
    "    z_obs, p_val =  proportions_ztest(m_obs, n_obs, value=0, alternative='two-sided')\n",
    "    \n",
    "    # вывод - отвергаем ли нулевую гипотезу\n",
    "    is_reject = 'отвергается' if p_val<alpha else 'не отвергается'\n",
    "             \n",
    "    # отображение результатов теста\n",
    "    if draw:\n",
    "        print(f'Доверительный интервал: [{left:.4f}, {right:.4f}].\\np-value: {p_val:.4f}\\nНулевая гипотеза {is_reject}\\n')\n",
    "    return left, right, z_obs, p_val, is_reject"
   ]
  },
  {
   "cell_type": "code",
   "execution_count": 5,
   "id": "688ac304",
   "metadata": {},
   "outputs": [],
   "source": [
    "# процент плательщиков для разных групп \n",
    "p_mt = 0.11 # больше \n",
    "p_et = 0.1 # без эффекта\n",
    "p_lt = 0.09 # меньше\n",
    "\n",
    "# генерация групп\n",
    "random_state=41\n",
    "test_data_lt = stats.bernoulli.rvs(p_lt, size=players_size, random_state=random_state)\n",
    "test_data_et = stats.bernoulli.rvs(p_et, size=players_size, random_state=random_state)\n",
    "test_data_mt = stats.bernoulli.rvs(p_mt, size=players_size, random_state=random_state)"
   ]
  },
  {
   "cell_type": "code",
   "execution_count": 6,
   "id": "2cddb464",
   "metadata": {},
   "outputs": [
    {
     "name": "stdout",
     "output_type": "stream",
     "text": [
      "Доля плательщиков в тесте - 0.09\n",
      "Доверительный интервал: [-0.0175, -0.0027].\n",
      "p-value: 0.0078\n",
      "Нулевая гипотеза отвергается\n",
      "\n",
      "Доля плательщиков в тесте - 0.1\n",
      "Доверительный интервал: [-0.0085, 0.0066].\n",
      "p-value: 0.8066\n",
      "Нулевая гипотеза не отвергается\n",
      "\n",
      "Доля плательщиков в тесте - 0.11\n",
      "Доверительный интервал: [0.0009, 0.0164].\n",
      "p-value: 0.0294\n",
      "Нулевая гипотеза отвергается\n",
      "\n"
     ]
    }
   ],
   "source": [
    "# расчет доверительных интервалов (не отвергаем нулевую гипотезу, если 0 входит в доверительный интервал) и p-value\n",
    "\n",
    "print('Доля плательщиков в тесте -',p_lt)\n",
    "left, right, z_obs, p_val,is_reject   = calc_interval_and_pvalue(control_data,test_data_lt,draw=True)\n",
    "\n",
    "print('Доля плательщиков в тесте -',p_et)\n",
    "left, right, z_obs, p_val,is_reject  = calc_interval_and_pvalue(control_data,test_data_et,draw=True)\n",
    "\n",
    "print('Доля плательщиков в тесте -',p_mt)\n",
    "left, right, z_obs, p_val,is_reject  = calc_interval_and_pvalue(control_data,test_data_mt,draw=True)"
   ]
  },
  {
   "cell_type": "markdown",
   "id": "d8051e8f",
   "metadata": {},
   "source": [
    "Байесовского подхода нет, увы"
   ]
  },
  {
   "cell_type": "markdown",
   "id": "094b5d5f",
   "metadata": {},
   "source": [
    "# 3 Предсказание оттока\n",
    "В мобильной игре, после установки и запуска игры начинается туториал - игрок проходит обучение игре, которое состоит из нескольких последовательных шагов. \n",
    "Данные представляют собой набор строк - уникальный id игрока, datetime и номер шага туториала который пройден игроком.\n",
    "Геймдизайнеры выдвинули гипотезу - если мы с высокой вероятностью сможем предсказать шаг на котором игрок уйдет из игры заранее, то запустив альтернативное продолжение туториала с этого шага мы избежим оттока и увеличим прохождение туториала.\n",
    "1.\tКак бы вы решали задачу предсказания отвала игрока?\n",
    "2.\tКак оценить качество полученной модели? Опишите методы которые знаете и какой считаете оптимальным и почему.\n",
    "3.\tПредположим что вы разработали модель которая с достаточной вероятностью предсказывает отвал. Опишите дизайн эксперимента и методологию по проверке гипотезы геймдизайнеров\n"
   ]
  },
  {
   "cell_type": "markdown",
   "id": "061a6c79",
   "metadata": {},
   "source": [
    "# Решение "
   ]
  },
  {
   "cell_type": "markdown",
   "id": "e18358f7",
   "metadata": {},
   "source": [
    "1. Можно на основе данных игрока создать модель (классификатор), которая будет предсказывать уход игрока. По datetime, а также по другим параметрам, если возможен их сбор, такие как своства игрока (страна, возраст и др.), то как он проходит уровень (время потраченное на уровень в сравнении с другими игроками, какие-либо действия в игре в зависимости от жанра, и т.д.), запустить альтернативный туториал (или один из нескольких альтернативных туториалов в дальнейшем, например создание для кажого туториала модели, которые буду предстазывать необходимость смены текущего утториала на определенный другой туториал).  \n",
    "2. Оценку качества модели можно производить с помощью метрики recall, т.к. мы хотим предсказать наибольшее количество игроков собирающихся покинуть игру. Также можно использовать взвешенный f-score, для учета того, во сколько раз recall для нас вожнее чем precition.\n",
    "3. \n",
    "    \n",
    "    1. Формулировка гипотез: количество игроков проходящих туториал до конца.\n",
    "    2. Задание метрик. Основаная метрика - доля игроков проходящих туториал полностью, также хорошо иметь и другие метрики и посмотреть их измениение в результате А/Б теста (продолжает ли игрок играть в игру спустя определнное время, провести опрос после туториала и узнать доволен ли игрок туториалом)\n",
    "    3. Разделение новых пользователей группы (в зависимости от количества других проводимых А/Б тестов, в зависимости от того, откуда пришел игрок (т.е. реклама на опредленном сайте, блогере, по чей рекомендации), какие-нибудь другие свойства (страна, платформа) и др.)\n",
    "    4. Определения значимости и мощности эксперимента, и расчет необходимого количества наблюдений (времени эксперимента)\n",
    "    5. Введение эксперимента и ожидание результатов.\n",
    "    6. Анализ результатов.\n",
    "\n",
    "    "
   ]
  },
  {
   "cell_type": "markdown",
   "id": "23b61c44",
   "metadata": {},
   "source": [
    "# 4 Эффективность рекламных кампаний\n",
    "Отдел маркетинга оперирует некоторым множеством рекламных кампаний. Первая часть оперирования состоит из запуска тестовых рекламных кампаний, у которых есть требования по KPI при достижении которых тест считается успешным.\n",
    "Успешные тесты переходят в разряд постоянных кампаний и вторая часть оперирования состоит из мониторинга постоянных кампаний - управление бюджетом кампании (COST) и мониторинг ее доходов (REVENUE), а так же соотношением доходов к расходам.\n",
    "Главный KPI для постоянных рекламных кампаний - ROAS на 60й день, т.е. какой процент от расходов кампания возвращает на 60й день.\n",
    "Для выполнения задачи необходимо использовать тестовый датасет (2 таблицы по расходам и доходам).\n",
    "1.\tОтдел маркетинга руководствуется гипотезой - чем больший COST расходуется на кампанию тем ниже ROAS 60го дня (рост CPI при увеличении объёма закупки при сохранении того же LTV 60го дня). На основании данных подтвердите или опровергните эту гипотезу. Исходите из того что мы точно знаем что CPI зависит от объема нелинейно, вопрос в том как эту зависимость описать и учесть во 2м вопросе.\n",
    "2.\tПо каждой рекламной кампании рассчитайте суточный рекламный бюджет который максимизирует абсолютную маркетинговую прибыль рекламной кампании (REVENUE 60 дня минус COST).\n",
    "3.\tИсходя из пункта 2 по каждой рекламной кампании дайте ваше заключение о том насколько нужно увеличить / уменьшить ее суточный бюджет либо вообще остановить.\n",
    "4.\tРешите проблему рекламных кампаний по которым еще нет полных 60 дней. Объясните почему ваше решение оптимально\n"
   ]
  },
  {
   "cell_type": "markdown",
   "id": "3c8617c9",
   "metadata": {},
   "source": [
    "# Решение "
   ]
  },
  {
   "cell_type": "markdown",
   "id": "e576bad3",
   "metadata": {},
   "source": [
    "Тоже нет, увы2"
   ]
  },
  {
   "cell_type": "code",
   "execution_count": 7,
   "id": "63e193f8",
   "metadata": {},
   "outputs": [
    {
     "data": {
      "text/plain": [
       "[('source_comparison',), ('costs',), ('revenue',)]"
      ]
     },
     "execution_count": 7,
     "metadata": {},
     "output_type": "execute_result"
    }
   ],
   "source": [
    "# подключение у базе данных\n",
    "path = 'testcase.db'\n",
    "db = sqlite3.connect(path)\n",
    "cursor = db.cursor()\n",
    "cursor.execute(\"SELECT name FROM sqlite_master WHERE type='table';\")\n",
    "tables = cursor.fetchall()\n",
    "tables"
   ]
  },
  {
   "cell_type": "code",
   "execution_count": 8,
   "id": "4b839883",
   "metadata": {},
   "outputs": [
    {
     "data": {
      "text/html": [
       "<div>\n",
       "<style scoped>\n",
       "    .dataframe tbody tr th:only-of-type {\n",
       "        vertical-align: middle;\n",
       "    }\n",
       "\n",
       "    .dataframe tbody tr th {\n",
       "        vertical-align: top;\n",
       "    }\n",
       "\n",
       "    .dataframe thead th {\n",
       "        text-align: right;\n",
       "    }\n",
       "</style>\n",
       "<table border=\"1\" class=\"dataframe\">\n",
       "  <thead>\n",
       "    <tr style=\"text-align: right;\">\n",
       "      <th></th>\n",
       "      <th>Install_Dates</th>\n",
       "      <th>campaign_id</th>\n",
       "      <th>Country</th>\n",
       "      <th>installs</th>\n",
       "      <th>spends</th>\n",
       "    </tr>\n",
       "  </thead>\n",
       "  <tbody>\n",
       "    <tr>\n",
       "      <th>0</th>\n",
       "      <td>2020-04-14</td>\n",
       "      <td>90570</td>\n",
       "      <td>CZ</td>\n",
       "      <td>35.0</td>\n",
       "      <td>19.79</td>\n",
       "    </tr>\n",
       "    <tr>\n",
       "      <th>1</th>\n",
       "      <td>2020-04-28</td>\n",
       "      <td>90619</td>\n",
       "      <td>AT</td>\n",
       "      <td>5.0</td>\n",
       "      <td>4.99</td>\n",
       "    </tr>\n",
       "    <tr>\n",
       "      <th>2</th>\n",
       "      <td>2020-05-10</td>\n",
       "      <td>794235</td>\n",
       "      <td>PK</td>\n",
       "      <td>79.0</td>\n",
       "      <td>0.40</td>\n",
       "    </tr>\n",
       "    <tr>\n",
       "      <th>3</th>\n",
       "      <td>2020-05-07</td>\n",
       "      <td>91872</td>\n",
       "      <td>FR</td>\n",
       "      <td>12.0</td>\n",
       "      <td>9.56</td>\n",
       "    </tr>\n",
       "    <tr>\n",
       "      <th>4</th>\n",
       "      <td>2020-04-03</td>\n",
       "      <td>19115</td>\n",
       "      <td>JP</td>\n",
       "      <td>6.0</td>\n",
       "      <td>3.39</td>\n",
       "    </tr>\n",
       "  </tbody>\n",
       "</table>\n",
       "</div>"
      ],
      "text/plain": [
       "  Install_Dates  campaign_id Country  installs  spends\n",
       "0    2020-04-14        90570      CZ      35.0   19.79\n",
       "1    2020-04-28        90619      AT       5.0    4.99\n",
       "2    2020-05-10       794235      PK      79.0    0.40\n",
       "3    2020-05-07        91872      FR      12.0    9.56\n",
       "4    2020-04-03        19115      JP       6.0    3.39"
      ]
     },
     "execution_count": 8,
     "metadata": {},
     "output_type": "execute_result"
    }
   ],
   "source": [
    "cursor.execute('select * from costs')\n",
    "columns_names = [i[0] for i in cursor.description]\n",
    "data = cursor.fetchall()\n",
    "costs_df = pd.DataFrame(data,columns=columns_names)\n",
    "costs_df['Install_Dates'] = pd.to_datetime(costs_df['Install_Dates'])\n",
    "costs_df.head()"
   ]
  },
  {
   "cell_type": "code",
   "execution_count": 9,
   "id": "066e8cc3",
   "metadata": {},
   "outputs": [
    {
     "data": {
      "text/html": [
       "<div>\n",
       "<style scoped>\n",
       "    .dataframe tbody tr th:only-of-type {\n",
       "        vertical-align: middle;\n",
       "    }\n",
       "\n",
       "    .dataframe tbody tr th {\n",
       "        vertical-align: top;\n",
       "    }\n",
       "\n",
       "    .dataframe thead th {\n",
       "        text-align: right;\n",
       "    }\n",
       "</style>\n",
       "<table border=\"1\" class=\"dataframe\">\n",
       "  <thead>\n",
       "    <tr style=\"text-align: right;\">\n",
       "      <th></th>\n",
       "      <th>Install_Dates</th>\n",
       "      <th>campaign_id</th>\n",
       "      <th>Country</th>\n",
       "      <th>1d_LTV</th>\n",
       "      <th>3d_LTV</th>\n",
       "      <th>7d_LTV</th>\n",
       "      <th>14d_LTV</th>\n",
       "      <th>30d_LTV</th>\n",
       "      <th>60d_LTV</th>\n",
       "    </tr>\n",
       "  </thead>\n",
       "  <tbody>\n",
       "    <tr>\n",
       "      <th>0</th>\n",
       "      <td>2020-04-14</td>\n",
       "      <td>90570</td>\n",
       "      <td>CZ</td>\n",
       "      <td>7.721194</td>\n",
       "      <td>8.104811</td>\n",
       "      <td>10.209480</td>\n",
       "      <td>11.845200</td>\n",
       "      <td>15.349594</td>\n",
       "      <td>15.768420</td>\n",
       "    </tr>\n",
       "    <tr>\n",
       "      <th>1</th>\n",
       "      <td>2020-03-30</td>\n",
       "      <td>90262</td>\n",
       "      <td>CA</td>\n",
       "      <td>1.424363</td>\n",
       "      <td>1.724738</td>\n",
       "      <td>1.724738</td>\n",
       "      <td>1.724738</td>\n",
       "      <td>1.724738</td>\n",
       "      <td>1.999413</td>\n",
       "    </tr>\n",
       "    <tr>\n",
       "      <th>2</th>\n",
       "      <td>2020-04-02</td>\n",
       "      <td>19115</td>\n",
       "      <td>PL</td>\n",
       "      <td>26.912006</td>\n",
       "      <td>32.943050</td>\n",
       "      <td>66.787497</td>\n",
       "      <td>70.071922</td>\n",
       "      <td>71.644023</td>\n",
       "      <td>72.057026</td>\n",
       "    </tr>\n",
       "    <tr>\n",
       "      <th>3</th>\n",
       "      <td>2020-04-15</td>\n",
       "      <td>788948</td>\n",
       "      <td>MD</td>\n",
       "      <td>0.000000</td>\n",
       "      <td>0.000000</td>\n",
       "      <td>0.000000</td>\n",
       "      <td>0.000000</td>\n",
       "      <td>0.000000</td>\n",
       "      <td>0.000000</td>\n",
       "    </tr>\n",
       "    <tr>\n",
       "      <th>4</th>\n",
       "      <td>2020-03-26</td>\n",
       "      <td>158583</td>\n",
       "      <td>DE</td>\n",
       "      <td>0.349793</td>\n",
       "      <td>0.349793</td>\n",
       "      <td>0.349793</td>\n",
       "      <td>0.349793</td>\n",
       "      <td>0.349793</td>\n",
       "      <td>0.349793</td>\n",
       "    </tr>\n",
       "  </tbody>\n",
       "</table>\n",
       "</div>"
      ],
      "text/plain": [
       "  Install_Dates  campaign_id Country     1d_LTV     3d_LTV     7d_LTV  \\\n",
       "0    2020-04-14        90570      CZ   7.721194   8.104811  10.209480   \n",
       "1    2020-03-30        90262      CA   1.424363   1.724738   1.724738   \n",
       "2    2020-04-02        19115      PL  26.912006  32.943050  66.787497   \n",
       "3    2020-04-15       788948      MD   0.000000   0.000000   0.000000   \n",
       "4    2020-03-26       158583      DE   0.349793   0.349793   0.349793   \n",
       "\n",
       "     14d_LTV    30d_LTV    60d_LTV  \n",
       "0  11.845200  15.349594  15.768420  \n",
       "1   1.724738   1.724738   1.999413  \n",
       "2  70.071922  71.644023  72.057026  \n",
       "3   0.000000   0.000000   0.000000  \n",
       "4   0.349793   0.349793   0.349793  "
      ]
     },
     "execution_count": 9,
     "metadata": {},
     "output_type": "execute_result"
    }
   ],
   "source": [
    "cursor.execute('select * from revenue')\n",
    "columns_names = [i[0] for i in cursor.description]\n",
    "data = cursor.fetchall()\n",
    "revenue_df = pd.DataFrame(data,columns=columns_names)\n",
    "revenue_df['Install_Dates'] = pd.to_datetime(revenue_df['Install_Dates'])\n",
    "revenue_df.head()"
   ]
  },
  {
   "cell_type": "code",
   "execution_count": null,
   "id": "f60b3d09",
   "metadata": {},
   "outputs": [],
   "source": []
  },
  {
   "cell_type": "code",
   "execution_count": 10,
   "id": "20b3223c",
   "metadata": {},
   "outputs": [
    {
     "data": {
      "text/html": [
       "<div>\n",
       "<style scoped>\n",
       "    .dataframe tbody tr th:only-of-type {\n",
       "        vertical-align: middle;\n",
       "    }\n",
       "\n",
       "    .dataframe tbody tr th {\n",
       "        vertical-align: top;\n",
       "    }\n",
       "\n",
       "    .dataframe thead th {\n",
       "        text-align: right;\n",
       "    }\n",
       "</style>\n",
       "<table border=\"1\" class=\"dataframe\">\n",
       "  <thead>\n",
       "    <tr style=\"text-align: right;\">\n",
       "      <th></th>\n",
       "      <th>Install_Dates</th>\n",
       "      <th>campaign_id</th>\n",
       "      <th>Country</th>\n",
       "      <th>installs</th>\n",
       "      <th>spends</th>\n",
       "      <th>1d_LTV</th>\n",
       "      <th>3d_LTV</th>\n",
       "      <th>7d_LTV</th>\n",
       "      <th>14d_LTV</th>\n",
       "      <th>30d_LTV</th>\n",
       "      <th>60d_LTV</th>\n",
       "    </tr>\n",
       "  </thead>\n",
       "  <tbody>\n",
       "    <tr>\n",
       "      <th>0</th>\n",
       "      <td>2020-04-14</td>\n",
       "      <td>90570</td>\n",
       "      <td>CZ</td>\n",
       "      <td>35.0</td>\n",
       "      <td>19.79</td>\n",
       "      <td>7.721194</td>\n",
       "      <td>8.104811</td>\n",
       "      <td>10.209480</td>\n",
       "      <td>11.845200</td>\n",
       "      <td>15.349594</td>\n",
       "      <td>15.768420</td>\n",
       "    </tr>\n",
       "    <tr>\n",
       "      <th>1</th>\n",
       "      <td>2020-04-28</td>\n",
       "      <td>90619</td>\n",
       "      <td>AT</td>\n",
       "      <td>5.0</td>\n",
       "      <td>4.99</td>\n",
       "      <td>1.032342</td>\n",
       "      <td>1.032342</td>\n",
       "      <td>1.248888</td>\n",
       "      <td>1.501317</td>\n",
       "      <td>1.761729</td>\n",
       "      <td>-1.000000</td>\n",
       "    </tr>\n",
       "    <tr>\n",
       "      <th>2</th>\n",
       "      <td>2020-05-10</td>\n",
       "      <td>794235</td>\n",
       "      <td>PK</td>\n",
       "      <td>79.0</td>\n",
       "      <td>0.40</td>\n",
       "      <td>0.212500</td>\n",
       "      <td>0.254620</td>\n",
       "      <td>0.390186</td>\n",
       "      <td>0.519535</td>\n",
       "      <td>0.652006</td>\n",
       "      <td>-1.000000</td>\n",
       "    </tr>\n",
       "    <tr>\n",
       "      <th>3</th>\n",
       "      <td>2020-05-07</td>\n",
       "      <td>91872</td>\n",
       "      <td>FR</td>\n",
       "      <td>12.0</td>\n",
       "      <td>9.56</td>\n",
       "      <td>4.661390</td>\n",
       "      <td>4.787784</td>\n",
       "      <td>6.422362</td>\n",
       "      <td>6.596973</td>\n",
       "      <td>6.596973</td>\n",
       "      <td>-1.000000</td>\n",
       "    </tr>\n",
       "    <tr>\n",
       "      <th>4</th>\n",
       "      <td>2020-04-03</td>\n",
       "      <td>19115</td>\n",
       "      <td>JP</td>\n",
       "      <td>6.0</td>\n",
       "      <td>3.39</td>\n",
       "      <td>0.833442</td>\n",
       "      <td>0.833442</td>\n",
       "      <td>1.103046</td>\n",
       "      <td>1.167516</td>\n",
       "      <td>1.398647</td>\n",
       "      <td>1.416652</td>\n",
       "    </tr>\n",
       "  </tbody>\n",
       "</table>\n",
       "</div>"
      ],
      "text/plain": [
       "  Install_Dates  campaign_id Country  installs  spends    1d_LTV    3d_LTV  \\\n",
       "0    2020-04-14        90570      CZ      35.0   19.79  7.721194  8.104811   \n",
       "1    2020-04-28        90619      AT       5.0    4.99  1.032342  1.032342   \n",
       "2    2020-05-10       794235      PK      79.0    0.40  0.212500  0.254620   \n",
       "3    2020-05-07        91872      FR      12.0    9.56  4.661390  4.787784   \n",
       "4    2020-04-03        19115      JP       6.0    3.39  0.833442  0.833442   \n",
       "\n",
       "      7d_LTV    14d_LTV    30d_LTV    60d_LTV  \n",
       "0  10.209480  11.845200  15.349594  15.768420  \n",
       "1   1.248888   1.501317   1.761729  -1.000000  \n",
       "2   0.390186   0.519535   0.652006  -1.000000  \n",
       "3   6.422362   6.596973   6.596973  -1.000000  \n",
       "4   1.103046   1.167516   1.398647   1.416652  "
      ]
     },
     "execution_count": 10,
     "metadata": {},
     "output_type": "execute_result"
    }
   ],
   "source": [
    "# джоин двух df\n",
    "CR_df = pd.merge(costs_df,\n",
    "                 revenue_df,\n",
    "                 how ='outer',\n",
    "                 left_on=['Install_Dates', 'campaign_id', 'Country'],\n",
    "                 right_on=['Install_Dates', 'campaign_id', 'Country']\n",
    "                )\n",
    "CR_df.head()"
   ]
  },
  {
   "cell_type": "code",
   "execution_count": null,
   "id": "2c95675e",
   "metadata": {},
   "outputs": [],
   "source": []
  },
  {
   "cell_type": "code",
   "execution_count": 11,
   "id": "91b74d1e",
   "metadata": {},
   "outputs": [
    {
     "data": {
      "text/html": [
       "<div>\n",
       "<style scoped>\n",
       "    .dataframe tbody tr th:only-of-type {\n",
       "        vertical-align: middle;\n",
       "    }\n",
       "\n",
       "    .dataframe tbody tr th {\n",
       "        vertical-align: top;\n",
       "    }\n",
       "\n",
       "    .dataframe thead th {\n",
       "        text-align: right;\n",
       "    }\n",
       "</style>\n",
       "<table border=\"1\" class=\"dataframe\">\n",
       "  <thead>\n",
       "    <tr style=\"text-align: right;\">\n",
       "      <th></th>\n",
       "      <th>Install_Dates</th>\n",
       "      <th>campaign_id</th>\n",
       "      <th>Country</th>\n",
       "      <th>installs</th>\n",
       "      <th>spends</th>\n",
       "      <th>1d_LTV</th>\n",
       "      <th>3d_LTV</th>\n",
       "      <th>7d_LTV</th>\n",
       "      <th>14d_LTV</th>\n",
       "      <th>30d_LTV</th>\n",
       "      <th>60d_LTV</th>\n",
       "      <th>revenue</th>\n",
       "    </tr>\n",
       "  </thead>\n",
       "  <tbody>\n",
       "    <tr>\n",
       "      <th>0</th>\n",
       "      <td>2020-04-14</td>\n",
       "      <td>90570</td>\n",
       "      <td>CZ</td>\n",
       "      <td>35.0</td>\n",
       "      <td>19.79</td>\n",
       "      <td>7.721194</td>\n",
       "      <td>8.104811</td>\n",
       "      <td>10.209480</td>\n",
       "      <td>11.845200</td>\n",
       "      <td>15.349594</td>\n",
       "      <td>15.768420</td>\n",
       "      <td>551.894708</td>\n",
       "    </tr>\n",
       "    <tr>\n",
       "      <th>1</th>\n",
       "      <td>2020-04-28</td>\n",
       "      <td>90619</td>\n",
       "      <td>AT</td>\n",
       "      <td>5.0</td>\n",
       "      <td>4.99</td>\n",
       "      <td>1.032342</td>\n",
       "      <td>1.032342</td>\n",
       "      <td>1.248888</td>\n",
       "      <td>1.501317</td>\n",
       "      <td>1.761729</td>\n",
       "      <td>NaN</td>\n",
       "      <td>NaN</td>\n",
       "    </tr>\n",
       "    <tr>\n",
       "      <th>2</th>\n",
       "      <td>2020-05-10</td>\n",
       "      <td>794235</td>\n",
       "      <td>PK</td>\n",
       "      <td>79.0</td>\n",
       "      <td>0.40</td>\n",
       "      <td>0.212500</td>\n",
       "      <td>0.254620</td>\n",
       "      <td>0.390186</td>\n",
       "      <td>0.519535</td>\n",
       "      <td>0.652006</td>\n",
       "      <td>NaN</td>\n",
       "      <td>NaN</td>\n",
       "    </tr>\n",
       "    <tr>\n",
       "      <th>3</th>\n",
       "      <td>2020-05-07</td>\n",
       "      <td>91872</td>\n",
       "      <td>FR</td>\n",
       "      <td>12.0</td>\n",
       "      <td>9.56</td>\n",
       "      <td>4.661390</td>\n",
       "      <td>4.787784</td>\n",
       "      <td>6.422362</td>\n",
       "      <td>6.596973</td>\n",
       "      <td>6.596973</td>\n",
       "      <td>NaN</td>\n",
       "      <td>NaN</td>\n",
       "    </tr>\n",
       "    <tr>\n",
       "      <th>4</th>\n",
       "      <td>2020-04-03</td>\n",
       "      <td>19115</td>\n",
       "      <td>JP</td>\n",
       "      <td>6.0</td>\n",
       "      <td>3.39</td>\n",
       "      <td>0.833442</td>\n",
       "      <td>0.833442</td>\n",
       "      <td>1.103046</td>\n",
       "      <td>1.167516</td>\n",
       "      <td>1.398647</td>\n",
       "      <td>1.416652</td>\n",
       "      <td>8.499912</td>\n",
       "    </tr>\n",
       "  </tbody>\n",
       "</table>\n",
       "</div>"
      ],
      "text/plain": [
       "  Install_Dates  campaign_id Country  installs  spends    1d_LTV    3d_LTV  \\\n",
       "0    2020-04-14        90570      CZ      35.0   19.79  7.721194  8.104811   \n",
       "1    2020-04-28        90619      AT       5.0    4.99  1.032342  1.032342   \n",
       "2    2020-05-10       794235      PK      79.0    0.40  0.212500  0.254620   \n",
       "3    2020-05-07        91872      FR      12.0    9.56  4.661390  4.787784   \n",
       "4    2020-04-03        19115      JP       6.0    3.39  0.833442  0.833442   \n",
       "\n",
       "      7d_LTV    14d_LTV    30d_LTV    60d_LTV     revenue  \n",
       "0  10.209480  11.845200  15.349594  15.768420  551.894708  \n",
       "1   1.248888   1.501317   1.761729        NaN         NaN  \n",
       "2   0.390186   0.519535   0.652006        NaN         NaN  \n",
       "3   6.422362   6.596973   6.596973        NaN         NaN  \n",
       "4   1.103046   1.167516   1.398647   1.416652    8.499912  "
      ]
     },
     "execution_count": 11,
     "metadata": {},
     "output_type": "execute_result"
    }
   ],
   "source": [
    "# замена -1 на np.nan\n",
    "CR_df['60d_LTV'] = CR_df['60d_LTV'].replace(-1,np.nan)\n",
    "\n",
    "# расчет revenue\n",
    "CR_df['revenue'] = CR_df['60d_LTV']*CR_df['installs']\n",
    "CR_df.head()"
   ]
  },
  {
   "cell_type": "code",
   "execution_count": 12,
   "id": "2b9e96b0",
   "metadata": {},
   "outputs": [
    {
     "data": {
      "text/html": [
       "<div>\n",
       "<style scoped>\n",
       "    .dataframe tbody tr th:only-of-type {\n",
       "        vertical-align: middle;\n",
       "    }\n",
       "\n",
       "    .dataframe tbody tr th {\n",
       "        vertical-align: top;\n",
       "    }\n",
       "\n",
       "    .dataframe thead th {\n",
       "        text-align: right;\n",
       "    }\n",
       "</style>\n",
       "<table border=\"1\" class=\"dataframe\">\n",
       "  <thead>\n",
       "    <tr style=\"text-align: right;\">\n",
       "      <th></th>\n",
       "      <th>1d_LTV</th>\n",
       "      <th>3d_LTV</th>\n",
       "      <th>7d_LTV</th>\n",
       "      <th>14d_LTV</th>\n",
       "      <th>30d_LTV</th>\n",
       "      <th>60d_LTV</th>\n",
       "    </tr>\n",
       "  </thead>\n",
       "  <tbody>\n",
       "    <tr>\n",
       "      <th>1d_LTV</th>\n",
       "      <td>1.000000</td>\n",
       "      <td>0.996558</td>\n",
       "      <td>0.987949</td>\n",
       "      <td>0.982467</td>\n",
       "      <td>0.977364</td>\n",
       "      <td>0.974049</td>\n",
       "    </tr>\n",
       "    <tr>\n",
       "      <th>3d_LTV</th>\n",
       "      <td>0.996558</td>\n",
       "      <td>1.000000</td>\n",
       "      <td>0.991967</td>\n",
       "      <td>0.986594</td>\n",
       "      <td>0.981347</td>\n",
       "      <td>0.978570</td>\n",
       "    </tr>\n",
       "    <tr>\n",
       "      <th>7d_LTV</th>\n",
       "      <td>0.987949</td>\n",
       "      <td>0.991967</td>\n",
       "      <td>1.000000</td>\n",
       "      <td>0.995078</td>\n",
       "      <td>0.989467</td>\n",
       "      <td>0.987576</td>\n",
       "    </tr>\n",
       "    <tr>\n",
       "      <th>14d_LTV</th>\n",
       "      <td>0.982467</td>\n",
       "      <td>0.986594</td>\n",
       "      <td>0.995078</td>\n",
       "      <td>1.000000</td>\n",
       "      <td>0.995395</td>\n",
       "      <td>0.992169</td>\n",
       "    </tr>\n",
       "    <tr>\n",
       "      <th>30d_LTV</th>\n",
       "      <td>0.977364</td>\n",
       "      <td>0.981347</td>\n",
       "      <td>0.989467</td>\n",
       "      <td>0.995395</td>\n",
       "      <td>1.000000</td>\n",
       "      <td>0.997040</td>\n",
       "    </tr>\n",
       "    <tr>\n",
       "      <th>60d_LTV</th>\n",
       "      <td>0.974049</td>\n",
       "      <td>0.978570</td>\n",
       "      <td>0.987576</td>\n",
       "      <td>0.992169</td>\n",
       "      <td>0.997040</td>\n",
       "      <td>1.000000</td>\n",
       "    </tr>\n",
       "  </tbody>\n",
       "</table>\n",
       "</div>"
      ],
      "text/plain": [
       "           1d_LTV    3d_LTV    7d_LTV   14d_LTV   30d_LTV   60d_LTV\n",
       "1d_LTV   1.000000  0.996558  0.987949  0.982467  0.977364  0.974049\n",
       "3d_LTV   0.996558  1.000000  0.991967  0.986594  0.981347  0.978570\n",
       "7d_LTV   0.987949  0.991967  1.000000  0.995078  0.989467  0.987576\n",
       "14d_LTV  0.982467  0.986594  0.995078  1.000000  0.995395  0.992169\n",
       "30d_LTV  0.977364  0.981347  0.989467  0.995395  1.000000  0.997040\n",
       "60d_LTV  0.974049  0.978570  0.987576  0.992169  0.997040  1.000000"
      ]
     },
     "execution_count": 12,
     "metadata": {},
     "output_type": "execute_result"
    }
   ],
   "source": [
    "# корреляционная матрица из который водно что LTV с 1 по 30 дней имею высокую корреляцию с LTV 60 дня\n",
    "CR_df[['1d_LTV', '3d_LTV', '7d_LTV', '14d_LTV', '30d_LTV', '60d_LTV']].corr()"
   ]
  },
  {
   "cell_type": "code",
   "execution_count": 13,
   "id": "68359fd1",
   "metadata": {},
   "outputs": [
    {
     "data": {
      "text/plain": [
       "<seaborn.axisgrid.PairGrid at 0x20da6e61fd0>"
      ]
     },
     "execution_count": 13,
     "metadata": {},
     "output_type": "execute_result"
    },
    {
     "data": {
      "image/png": "[encoded data removed]",
      "text/plain": [
       "<Figure size 1080x1080 with 42 Axes>"
      ]
     },
     "metadata": {
      "needs_background": "light"
     },
     "output_type": "display_data"
    }
   ],
   "source": [
    "sns.pairplot(CR_df[['1d_LTV', '3d_LTV', '7d_LTV', '14d_LTV', '30d_LTV', '60d_LTV']])"
   ]
  },
  {
   "cell_type": "markdown",
   "id": "9cfa434a",
   "metadata": {},
   "source": [
    "Из-за высокой корреляции LTV 60 дня с предыдущими для прогноза отсутсвующих 60d_LTV расчитаем отношения предыдущих LTV к отсутсвующим, затем опираясь на значения i-ого LTV и отношения i-ого LTV к 60d_LTV расчитаем 60d_LTV."
   ]
  },
  {
   "cell_type": "code",
   "execution_count": 14,
   "id": "e6ccfe32",
   "metadata": {},
   "outputs": [
    {
     "data": {
      "text/plain": [
       "campaign_id\n",
       "19115     1645\n",
       "794235    1353\n",
       "22083      578\n",
       "792410     319\n",
       "90619      204\n",
       "          ... \n",
       "790391      11\n",
       "787244      11\n",
       "789505      11\n",
       "789191      11\n",
       "92412       11\n",
       "Name: campaign_id, Length: 174, dtype: int64"
      ]
     },
     "execution_count": 14,
     "metadata": {},
     "output_type": "execute_result"
    }
   ],
   "source": [
    "#расчет для каждой компании количетсва наблюдений\n",
    "campaign_count = CR_df.groupby('campaign_id')['campaign_id'].agg('count')\n",
    "campaign_count = campaign_count.sort_values(ascending=False)\n",
    "\n",
    "campaigns_treshhold = 10\n",
    "active_campaigns = campaign_count[campaign_count>10]\n",
    "active_campaigns"
   ]
  },
  {
   "cell_type": "code",
   "execution_count": null,
   "id": "8af81217",
   "metadata": {},
   "outputs": [],
   "source": []
  },
  {
   "cell_type": "code",
   "execution_count": 15,
   "id": "890f2d36",
   "metadata": {},
   "outputs": [
    {
     "name": "stderr",
     "output_type": "stream",
     "text": [
      "<ipython-input-15-0ee3f6150554>:11: SettingWithCopyWarning: \n",
      "A value is trying to be set on a copy of a slice from a DataFrame.\n",
      "Try using .loc[row_indexer,col_indexer] = value instead\n",
      "\n",
      "See the caveats in the documentation: https://pandas.pydata.org/pandas-docs/stable/user_guide/indexing.html#returning-a-view-versus-a-copy\n",
      "  LTV_df[numerator+'_by_'+denumerator] = LTV_df[numerator]/LTV_df[denumerator]\n"
     ]
    },
    {
     "data": {
      "text/html": [
       "<div>\n",
       "<style scoped>\n",
       "    .dataframe tbody tr th:only-of-type {\n",
       "        vertical-align: middle;\n",
       "    }\n",
       "\n",
       "    .dataframe tbody tr th {\n",
       "        vertical-align: top;\n",
       "    }\n",
       "\n",
       "    .dataframe thead th {\n",
       "        text-align: right;\n",
       "    }\n",
       "</style>\n",
       "<table border=\"1\" class=\"dataframe\">\n",
       "  <thead>\n",
       "    <tr style=\"text-align: right;\">\n",
       "      <th></th>\n",
       "      <th>60d_LTV_by_1d_LTV</th>\n",
       "      <th>60d_LTV_by_3d_LTV</th>\n",
       "      <th>60d_LTV_by_7d_LTV</th>\n",
       "      <th>60d_LTV_by_14d_LTV</th>\n",
       "      <th>60d_LTV_by_30d_LTV</th>\n",
       "    </tr>\n",
       "  </thead>\n",
       "  <tbody>\n",
       "    <tr>\n",
       "      <th>count</th>\n",
       "      <td>4035.000000</td>\n",
       "      <td>4035.000000</td>\n",
       "      <td>4035.000000</td>\n",
       "      <td>4035.000000</td>\n",
       "      <td>4035.000000</td>\n",
       "    </tr>\n",
       "    <tr>\n",
       "      <th>mean</th>\n",
       "      <td>inf</td>\n",
       "      <td>inf</td>\n",
       "      <td>inf</td>\n",
       "      <td>inf</td>\n",
       "      <td>inf</td>\n",
       "    </tr>\n",
       "    <tr>\n",
       "      <th>std</th>\n",
       "      <td>NaN</td>\n",
       "      <td>NaN</td>\n",
       "      <td>NaN</td>\n",
       "      <td>NaN</td>\n",
       "      <td>NaN</td>\n",
       "    </tr>\n",
       "    <tr>\n",
       "      <th>min</th>\n",
       "      <td>1.000000</td>\n",
       "      <td>1.000000</td>\n",
       "      <td>1.000000</td>\n",
       "      <td>1.000000</td>\n",
       "      <td>1.000000</td>\n",
       "    </tr>\n",
       "    <tr>\n",
       "      <th>25%</th>\n",
       "      <td>1.349470</td>\n",
       "      <td>1.237846</td>\n",
       "      <td>1.069673</td>\n",
       "      <td>1.006007</td>\n",
       "      <td>1.000000</td>\n",
       "    </tr>\n",
       "    <tr>\n",
       "      <th>50%</th>\n",
       "      <td>2.023924</td>\n",
       "      <td>1.800701</td>\n",
       "      <td>1.368162</td>\n",
       "      <td>1.145716</td>\n",
       "      <td>1.023907</td>\n",
       "    </tr>\n",
       "    <tr>\n",
       "      <th>75%</th>\n",
       "      <td>2.837458</td>\n",
       "      <td>2.423473</td>\n",
       "      <td>1.734219</td>\n",
       "      <td>1.344850</td>\n",
       "      <td>1.097516</td>\n",
       "    </tr>\n",
       "    <tr>\n",
       "      <th>max</th>\n",
       "      <td>inf</td>\n",
       "      <td>inf</td>\n",
       "      <td>inf</td>\n",
       "      <td>inf</td>\n",
       "      <td>inf</td>\n",
       "    </tr>\n",
       "  </tbody>\n",
       "</table>\n",
       "</div>"
      ],
      "text/plain": [
       "       60d_LTV_by_1d_LTV  60d_LTV_by_3d_LTV  60d_LTV_by_7d_LTV  \\\n",
       "count        4035.000000        4035.000000        4035.000000   \n",
       "mean                 inf                inf                inf   \n",
       "std                  NaN                NaN                NaN   \n",
       "min             1.000000           1.000000           1.000000   \n",
       "25%             1.349470           1.237846           1.069673   \n",
       "50%             2.023924           1.800701           1.368162   \n",
       "75%             2.837458           2.423473           1.734219   \n",
       "max                  inf                inf                inf   \n",
       "\n",
       "       60d_LTV_by_14d_LTV  60d_LTV_by_30d_LTV  \n",
       "count         4035.000000         4035.000000  \n",
       "mean                  inf                 inf  \n",
       "std                   NaN                 NaN  \n",
       "min              1.000000            1.000000  \n",
       "25%              1.006007            1.000000  \n",
       "50%              1.145716            1.023907  \n",
       "75%              1.344850            1.097516  \n",
       "max                   inf                 inf  "
      ]
     },
     "execution_count": 15,
     "metadata": {},
     "output_type": "execute_result"
    }
   ],
   "source": [
    "# сортировка для получения коэффициентов для расчета 60d_LTV\n",
    "LTV_df = CR_df[(CR_df['60d_LTV']!=0) & (CR_df.spends !=0) & (CR_df['60d_LTV'].notna())]\n",
    "\n",
    "# числитель в отношении 60d_LTV к i d_LTV\n",
    "numerator = '60d_LTV'\n",
    "\n",
    "# знаменатели в отношении \n",
    "to_find_60d_LTV_col = ['1d_LTV', '3d_LTV', '7d_LTV', '14d_LTV', '30d_LTV']\n",
    "\n",
    "for denumerator in to_find_60d_LTV_col:\n",
    "    LTV_df[numerator+'_by_'+denumerator] = LTV_df[numerator]/LTV_df[denumerator]\n",
    "LTV_df = LTV_df.iloc[:,-5:]\n",
    "LTV_df = LTV_df.describe()\n",
    "LTV_df"
   ]
  },
  {
   "cell_type": "markdown",
   "id": "f94bb922",
   "metadata": {},
   "source": [
    "Из-за малых значений расходов и больших доходов имеются большие хвосты, из-за чего для расчета будет использована медиана"
   ]
  },
  {
   "cell_type": "code",
   "execution_count": 16,
   "id": "651e8b82",
   "metadata": {},
   "outputs": [
    {
     "data": {
      "text/plain": [
       "array([2.02392424, 1.800701  , 1.36816199, 1.14571607, 1.02390677])"
      ]
     },
     "execution_count": 16,
     "metadata": {},
     "output_type": "execute_result"
    }
   ],
   "source": [
    "# медианные занчения\n",
    "LTV_ratio = LTV_df.loc['50%',:].to_numpy()\n",
    "LTV_ratio"
   ]
  },
  {
   "cell_type": "code",
   "execution_count": 17,
   "id": "789f949f",
   "metadata": {},
   "outputs": [],
   "source": [
    "# LTV до 60 дня\n",
    "prev_LTV = CR_df[to_find_60d_LTV_col].to_numpy()\n",
    "\n",
    "# предстазанные зачения 60d_LTV\n",
    "predicted_60d_LTV = np.mean(prev_LTV*LTV_ratio,axis=1)\n",
    "\n",
    "# отброс неизвестных значений для расчета метрик \n",
    "predicted_LTV = predicted_60d_LTV[CR_df['60d_LTV'].notna()]\n",
    "true_LTV = CR_df[CR_df['60d_LTV'].notna()]['60d_LTV']"
   ]
  },
  {
   "cell_type": "code",
   "execution_count": 18,
   "id": "9ab8f47b",
   "metadata": {},
   "outputs": [
    {
     "name": "stdout",
     "output_type": "stream",
     "text": [
      "MAPE: 0.214\n",
      "r2_score: 0.965\n"
     ]
    }
   ],
   "source": [
    "# метрики \n",
    "MAPE = mean_absolute_percentage_error(true_LTV, predicted_LTV)\n",
    "R2 = r2_score(true_LTV, predicted_LTV)\n",
    "print(f'MAPE: {MAPE:.3f}')\n",
    "print(f'r2_score: {R2:.3f}')"
   ]
  },
  {
   "cell_type": "code",
   "execution_count": null,
   "id": "6262ad11",
   "metadata": {},
   "outputs": [],
   "source": []
  },
  {
   "cell_type": "code",
   "execution_count": null,
   "id": "0403a233",
   "metadata": {},
   "outputs": [],
   "source": []
  },
  {
   "cell_type": "markdown",
   "id": "05c36e51",
   "metadata": {},
   "source": [
    "# 5 Связь рекламного траффика и органического\n",
    "Приток новых игроков делится на 2 основных источника - рекламный и органический. Отдел маркетинг выдвигает гипотезу о связи рекламного и органического траффика: когда маркетологи привлекают больше рекламного траффика, растет и органический.\n",
    "Для выполнения задачи необходимо использовать тестовый датасет (таблица source_comparison).\n",
    "1.\tПодтвердите или опровергните гипотезу маркетологов. Если вы ее опровергаете, то сформулируйте гипотезу которая кажется вам наиболее вероятной и проверьте ее\n",
    "2.\tКоличественно рассчитайте вероятность что гипотеза маркетологов (или ваша) верна\n"
   ]
  },
  {
   "cell_type": "markdown",
   "id": "8904e07e",
   "metadata": {},
   "source": [
    "# Решение "
   ]
  },
  {
   "cell_type": "code",
   "execution_count": 19,
   "id": "417ece39",
   "metadata": {},
   "outputs": [
    {
     "data": {
      "text/plain": [
       "[('source_comparison',), ('costs',), ('revenue',)]"
      ]
     },
     "execution_count": 19,
     "metadata": {},
     "output_type": "execute_result"
    }
   ],
   "source": [
    "# подключение к базе данных\n",
    "path = 'testcase.db'\n",
    "db = sqlite3.connect(path)\n",
    "cursor = db.cursor()\n",
    "cursor.execute(\"SELECT name FROM sqlite_master WHERE type='table';\")\n",
    "tables = cursor.fetchall()\n",
    "tables"
   ]
  },
  {
   "cell_type": "code",
   "execution_count": 20,
   "id": "2505cc5c",
   "metadata": {},
   "outputs": [
    {
     "name": "stdout",
     "output_type": "stream",
     "text": [
      "(18606, 4)\n"
     ]
    },
    {
     "data": {
      "text/html": [
       "<div>\n",
       "<style scoped>\n",
       "    .dataframe tbody tr th:only-of-type {\n",
       "        vertical-align: middle;\n",
       "    }\n",
       "\n",
       "    .dataframe tbody tr th {\n",
       "        vertical-align: top;\n",
       "    }\n",
       "\n",
       "    .dataframe thead th {\n",
       "        text-align: right;\n",
       "    }\n",
       "</style>\n",
       "<table border=\"1\" class=\"dataframe\">\n",
       "  <thead>\n",
       "    <tr style=\"text-align: right;\">\n",
       "      <th></th>\n",
       "      <th>Install_Dates</th>\n",
       "      <th>source_type</th>\n",
       "      <th>Country</th>\n",
       "      <th>installs</th>\n",
       "    </tr>\n",
       "  </thead>\n",
       "  <tbody>\n",
       "    <tr>\n",
       "      <th>0</th>\n",
       "      <td>2020-05-18</td>\n",
       "      <td>Paid</td>\n",
       "      <td>PY</td>\n",
       "      <td>4.0</td>\n",
       "    </tr>\n",
       "    <tr>\n",
       "      <th>1</th>\n",
       "      <td>2020-04-14</td>\n",
       "      <td>Paid</td>\n",
       "      <td>FR</td>\n",
       "      <td>35.0</td>\n",
       "    </tr>\n",
       "    <tr>\n",
       "      <th>2</th>\n",
       "      <td>2020-04-30</td>\n",
       "      <td>Paid</td>\n",
       "      <td>JP</td>\n",
       "      <td>25.0</td>\n",
       "    </tr>\n",
       "    <tr>\n",
       "      <th>3</th>\n",
       "      <td>2020-03-20</td>\n",
       "      <td>Paid</td>\n",
       "      <td>DE</td>\n",
       "      <td>11.0</td>\n",
       "    </tr>\n",
       "    <tr>\n",
       "      <th>4</th>\n",
       "      <td>2020-04-30</td>\n",
       "      <td>Paid</td>\n",
       "      <td>IT</td>\n",
       "      <td>8.0</td>\n",
       "    </tr>\n",
       "  </tbody>\n",
       "</table>\n",
       "</div>"
      ],
      "text/plain": [
       "  Install_Dates source_type Country  installs\n",
       "0    2020-05-18        Paid      PY       4.0\n",
       "1    2020-04-14        Paid      FR      35.0\n",
       "2    2020-04-30        Paid      JP      25.0\n",
       "3    2020-03-20        Paid      DE      11.0\n",
       "4    2020-04-30        Paid      IT       8.0"
      ]
     },
     "execution_count": 20,
     "metadata": {},
     "output_type": "execute_result"
    }
   ],
   "source": [
    "# загрузка данных о источниках игроков\n",
    "cursor.execute('select * from source_comparison')\n",
    "columns_names = [i[0] for i in cursor.description]\n",
    "data = cursor.fetchall()\n",
    "df = pd.DataFrame(data,columns=columns_names)\n",
    "print(df.shape)\n",
    "df.head()"
   ]
  },
  {
   "cell_type": "code",
   "execution_count": 21,
   "id": "f977e953",
   "metadata": {},
   "outputs": [
    {
     "data": {
      "text/plain": [
       "61"
      ]
     },
     "execution_count": 21,
     "metadata": {},
     "output_type": "execute_result"
    }
   ],
   "source": [
    "df['Install_Dates'].nunique()"
   ]
  },
  {
   "cell_type": "code",
   "execution_count": 22,
   "id": "52a80ff8",
   "metadata": {},
   "outputs": [
    {
     "data": {
      "text/html": [
       "<div>\n",
       "<style scoped>\n",
       "    .dataframe tbody tr th:only-of-type {\n",
       "        vertical-align: middle;\n",
       "    }\n",
       "\n",
       "    .dataframe tbody tr th {\n",
       "        vertical-align: top;\n",
       "    }\n",
       "\n",
       "    .dataframe thead th {\n",
       "        text-align: right;\n",
       "    }\n",
       "</style>\n",
       "<table border=\"1\" class=\"dataframe\">\n",
       "  <thead>\n",
       "    <tr style=\"text-align: right;\">\n",
       "      <th></th>\n",
       "      <th>paid</th>\n",
       "      <th>organic</th>\n",
       "    </tr>\n",
       "    <tr>\n",
       "      <th>Install_Dates</th>\n",
       "      <th></th>\n",
       "      <th></th>\n",
       "    </tr>\n",
       "  </thead>\n",
       "  <tbody>\n",
       "    <tr>\n",
       "      <th>2020-03-18</th>\n",
       "      <td>7359.0</td>\n",
       "      <td>8961.0</td>\n",
       "    </tr>\n",
       "    <tr>\n",
       "      <th>2020-03-19</th>\n",
       "      <td>6739.0</td>\n",
       "      <td>8457.0</td>\n",
       "    </tr>\n",
       "    <tr>\n",
       "      <th>2020-03-20</th>\n",
       "      <td>7254.0</td>\n",
       "      <td>8819.0</td>\n",
       "    </tr>\n",
       "    <tr>\n",
       "      <th>2020-03-21</th>\n",
       "      <td>9552.0</td>\n",
       "      <td>4485.0</td>\n",
       "    </tr>\n",
       "    <tr>\n",
       "      <th>2020-03-22</th>\n",
       "      <td>14804.0</td>\n",
       "      <td>5105.0</td>\n",
       "    </tr>\n",
       "  </tbody>\n",
       "</table>\n",
       "</div>"
      ],
      "text/plain": [
       "                  paid  organic\n",
       "Install_Dates                  \n",
       "2020-03-18      7359.0   8961.0\n",
       "2020-03-19      6739.0   8457.0\n",
       "2020-03-20      7254.0   8819.0\n",
       "2020-03-21      9552.0   4485.0\n",
       "2020-03-22     14804.0   5105.0"
      ]
     },
     "execution_count": 22,
     "metadata": {},
     "output_type": "execute_result"
    }
   ],
   "source": [
    "# группировка рекламного и органического трафика по дням\n",
    "target = ['Install_Dates']\n",
    "paid_source =  df[df['source_type'] == 'Paid'].groupby(target)[\"installs\"].agg(sum)\n",
    "organic_source = df[df['source_type'] == 'Organic'].groupby(target)[\"installs\"].agg(sum)\n",
    "source_df = pd.DataFrame({'paid':paid_source,'organic':organic_source})\n",
    "source_df.head()"
   ]
  },
  {
   "cell_type": "code",
   "execution_count": 23,
   "id": "2785c59c",
   "metadata": {},
   "outputs": [
    {
     "data": {
      "text/html": [
       "<div>\n",
       "<style scoped>\n",
       "    .dataframe tbody tr th:only-of-type {\n",
       "        vertical-align: middle;\n",
       "    }\n",
       "\n",
       "    .dataframe tbody tr th {\n",
       "        vertical-align: top;\n",
       "    }\n",
       "\n",
       "    .dataframe thead th {\n",
       "        text-align: right;\n",
       "    }\n",
       "</style>\n",
       "<table border=\"1\" class=\"dataframe\">\n",
       "  <thead>\n",
       "    <tr style=\"text-align: right;\">\n",
       "      <th></th>\n",
       "      <th>paid</th>\n",
       "      <th>organic</th>\n",
       "    </tr>\n",
       "  </thead>\n",
       "  <tbody>\n",
       "    <tr>\n",
       "      <th>paid</th>\n",
       "      <td>1.000000</td>\n",
       "      <td>0.224341</td>\n",
       "    </tr>\n",
       "    <tr>\n",
       "      <th>organic</th>\n",
       "      <td>0.224341</td>\n",
       "      <td>1.000000</td>\n",
       "    </tr>\n",
       "  </tbody>\n",
       "</table>\n",
       "</div>"
      ],
      "text/plain": [
       "             paid   organic\n",
       "paid     1.000000  0.224341\n",
       "organic  0.224341  1.000000"
      ]
     },
     "execution_count": 23,
     "metadata": {},
     "output_type": "execute_result"
    }
   ],
   "source": [
    "# коэффициент корреляции Пирсона\n",
    "source_df.corr(method='pearson')"
   ]
  },
  {
   "cell_type": "code",
   "execution_count": 24,
   "id": "b22057d2",
   "metadata": {},
   "outputs": [
    {
     "data": {
      "text/html": [
       "<div>\n",
       "<style scoped>\n",
       "    .dataframe tbody tr th:only-of-type {\n",
       "        vertical-align: middle;\n",
       "    }\n",
       "\n",
       "    .dataframe tbody tr th {\n",
       "        vertical-align: top;\n",
       "    }\n",
       "\n",
       "    .dataframe thead th {\n",
       "        text-align: right;\n",
       "    }\n",
       "</style>\n",
       "<table border=\"1\" class=\"dataframe\">\n",
       "  <thead>\n",
       "    <tr style=\"text-align: right;\">\n",
       "      <th></th>\n",
       "      <th>paid</th>\n",
       "      <th>organic</th>\n",
       "    </tr>\n",
       "  </thead>\n",
       "  <tbody>\n",
       "    <tr>\n",
       "      <th>paid</th>\n",
       "      <td>1.000000</td>\n",
       "      <td>0.538109</td>\n",
       "    </tr>\n",
       "    <tr>\n",
       "      <th>organic</th>\n",
       "      <td>0.538109</td>\n",
       "      <td>1.000000</td>\n",
       "    </tr>\n",
       "  </tbody>\n",
       "</table>\n",
       "</div>"
      ],
      "text/plain": [
       "             paid   organic\n",
       "paid     1.000000  0.538109\n",
       "organic  0.538109  1.000000"
      ]
     },
     "execution_count": 24,
     "metadata": {},
     "output_type": "execute_result"
    }
   ],
   "source": [
    "# коэффициент корреляции Спирмана\n",
    "source_df.corr(method='spearman')"
   ]
  },
  {
   "cell_type": "code",
   "execution_count": 25,
   "id": "d00855b5",
   "metadata": {},
   "outputs": [
    {
     "data": {
      "text/plain": [
       "<seaborn.axisgrid.PairGrid at 0x20dacba1b20>"
      ]
     },
     "execution_count": 25,
     "metadata": {},
     "output_type": "execute_result"
    },
    {
     "data": {
      "image/png": "[encoded data removed]",
      "text/plain": [
       "<Figure size 360x360 with 6 Axes>"
      ]
     },
     "metadata": {
      "needs_background": "light"
     },
     "output_type": "display_data"
    }
   ],
   "source": [
    "sns.pairplot(source_df)"
   ]
  },
  {
   "cell_type": "code",
   "execution_count": 26,
   "id": "daace179",
   "metadata": {},
   "outputs": [
    {
     "data": {
      "text/plain": [
       "<matplotlib.legend.Legend at 0x20dada9ea00>"
      ]
     },
     "execution_count": 26,
     "metadata": {},
     "output_type": "execute_result"
    },
    {
     "data": {
      "image/png": "[encoded data removed]",
      "text/plain": [
       "<Figure size 432x288 with 1 Axes>"
      ]
     },
     "metadata": {
      "needs_background": "light"
     },
     "output_type": "display_data"
    }
   ],
   "source": [
    "plt.plot(source_df.organic,label='organic')\n",
    "plt.plot(source_df.paid,label='paid')\n",
    "plt.xticks(plt.xticks()[0][0::15])\n",
    "plt.ylabel('Install')\n",
    "plt.xlabel('day')\n",
    "plt.legend()"
   ]
  },
  {
   "cell_type": "markdown",
   "id": "df35d196",
   "metadata": {},
   "source": [
    "Из графиков видно, что в первые 3 дня скорее всего являются выбросами или в ту дату произошел структурный сдвиг (возможно проанализировать Байесовскими методами при большем объеме данных, также возможно такое поведение данных - результат политики компании, или влияние каких-нибудь других факторов). Если отбросить первые дни, то:"
   ]
  },
  {
   "cell_type": "code",
   "execution_count": 27,
   "id": "0286fa87",
   "metadata": {},
   "outputs": [
    {
     "data": {
      "text/html": [
       "<div>\n",
       "<style scoped>\n",
       "    .dataframe tbody tr th:only-of-type {\n",
       "        vertical-align: middle;\n",
       "    }\n",
       "\n",
       "    .dataframe tbody tr th {\n",
       "        vertical-align: top;\n",
       "    }\n",
       "\n",
       "    .dataframe thead th {\n",
       "        text-align: right;\n",
       "    }\n",
       "</style>\n",
       "<table border=\"1\" class=\"dataframe\">\n",
       "  <thead>\n",
       "    <tr style=\"text-align: right;\">\n",
       "      <th></th>\n",
       "      <th>paid</th>\n",
       "      <th>organic</th>\n",
       "    </tr>\n",
       "  </thead>\n",
       "  <tbody>\n",
       "    <tr>\n",
       "      <th>paid</th>\n",
       "      <td>1.000000</td>\n",
       "      <td>0.806232</td>\n",
       "    </tr>\n",
       "    <tr>\n",
       "      <th>organic</th>\n",
       "      <td>0.806232</td>\n",
       "      <td>1.000000</td>\n",
       "    </tr>\n",
       "  </tbody>\n",
       "</table>\n",
       "</div>"
      ],
      "text/plain": [
       "             paid   organic\n",
       "paid     1.000000  0.806232\n",
       "organic  0.806232  1.000000"
      ]
     },
     "execution_count": 27,
     "metadata": {},
     "output_type": "execute_result"
    }
   ],
   "source": [
    "# отбросим выбросы\n",
    "source_df = source_df[source_df.paid>source_df.organic]\n",
    "\n",
    "# коэффициент корреляции Пирсона\n",
    "source_df.corr(method='pearson')"
   ]
  },
  {
   "cell_type": "markdown",
   "id": "053c36a3",
   "metadata": {},
   "source": [
    "По расчитанному коэффициенту корреляции видно, что органический и рекламный трафик имеют высокую корреляцию."
   ]
  }
 ],
 "metadata": {
  "kernelspec": {
   "display_name": "Python 3",
   "language": "python",
   "name": "python3"
  },
  "language_info": {
   "codemirror_mode": {
    "name": "ipython",
    "version": 3
   },
   "file_extension": ".py",
   "mimetype": "text/x-python",
   "name": "python",
   "nbconvert_exporter": "python",
   "pygments_lexer": "ipython3",
   "version": "3.8.8"
  }
 },
 "nbformat": 4,
 "nbformat_minor": 5
}
